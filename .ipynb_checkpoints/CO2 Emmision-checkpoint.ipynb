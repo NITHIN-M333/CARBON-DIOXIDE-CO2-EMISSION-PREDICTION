{
 "cells": [
  {
   "cell_type": "code",
   "execution_count": 1,
   "id": "fdd888e1",
   "metadata": {},
   "outputs": [],
   "source": [
    "import pandas as pd\n",
    "import matplotlib.pyplot as plt\n",
    "import numpy as np\n",
    "import warnings\n",
    "import seaborn as sns\n",
    "warnings.filterwarnings('ignore')"
   ]
  },
  {
   "cell_type": "code",
   "execution_count": 2,
   "id": "63e746fe",
   "metadata": {},
   "outputs": [
    {
     "data": {
      "text/html": [
       "<div>\n",
       "<style scoped>\n",
       "    .dataframe tbody tr th:only-of-type {\n",
       "        vertical-align: middle;\n",
       "    }\n",
       "\n",
       "    .dataframe tbody tr th {\n",
       "        vertical-align: top;\n",
       "    }\n",
       "\n",
       "    .dataframe thead th {\n",
       "        text-align: right;\n",
       "    }\n",
       "</style>\n",
       "<table border=\"1\" class=\"dataframe\">\n",
       "  <thead>\n",
       "    <tr style=\"text-align: right;\">\n",
       "      <th></th>\n",
       "      <th>Year</th>\n",
       "      <th>CO2</th>\n",
       "    </tr>\n",
       "  </thead>\n",
       "  <tbody>\n",
       "    <tr>\n",
       "      <th>0</th>\n",
       "      <td>1800.0</td>\n",
       "      <td>0.00568</td>\n",
       "    </tr>\n",
       "    <tr>\n",
       "      <th>1</th>\n",
       "      <td>1801.0</td>\n",
       "      <td>0.00561</td>\n",
       "    </tr>\n",
       "    <tr>\n",
       "      <th>2</th>\n",
       "      <td>1802.0</td>\n",
       "      <td>0.00555</td>\n",
       "    </tr>\n",
       "    <tr>\n",
       "      <th>3</th>\n",
       "      <td>1803.0</td>\n",
       "      <td>0.00548</td>\n",
       "    </tr>\n",
       "    <tr>\n",
       "      <th>4</th>\n",
       "      <td>1804.0</td>\n",
       "      <td>0.00542</td>\n",
       "    </tr>\n",
       "    <tr>\n",
       "      <th>...</th>\n",
       "      <td>...</td>\n",
       "      <td>...</td>\n",
       "    </tr>\n",
       "    <tr>\n",
       "      <th>210</th>\n",
       "      <td>2010.0</td>\n",
       "      <td>15.60000</td>\n",
       "    </tr>\n",
       "    <tr>\n",
       "      <th>211</th>\n",
       "      <td>2011.0</td>\n",
       "      <td>15.60000</td>\n",
       "    </tr>\n",
       "    <tr>\n",
       "      <th>212</th>\n",
       "      <td>2012.0</td>\n",
       "      <td>14.80000</td>\n",
       "    </tr>\n",
       "    <tr>\n",
       "      <th>213</th>\n",
       "      <td>2013.0</td>\n",
       "      <td>14.70000</td>\n",
       "    </tr>\n",
       "    <tr>\n",
       "      <th>214</th>\n",
       "      <td>2014.0</td>\n",
       "      <td>15.10000</td>\n",
       "    </tr>\n",
       "  </tbody>\n",
       "</table>\n",
       "<p>215 rows × 2 columns</p>\n",
       "</div>"
      ],
      "text/plain": [
       "       Year       CO2\n",
       "0    1800.0   0.00568\n",
       "1    1801.0   0.00561\n",
       "2    1802.0   0.00555\n",
       "3    1803.0   0.00548\n",
       "4    1804.0   0.00542\n",
       "..      ...       ...\n",
       "210  2010.0  15.60000\n",
       "211  2011.0  15.60000\n",
       "212  2012.0  14.80000\n",
       "213  2013.0  14.70000\n",
       "214  2014.0  15.10000\n",
       "\n",
       "[215 rows x 2 columns]"
      ]
     },
     "execution_count": 2,
     "metadata": {},
     "output_type": "execute_result"
    }
   ],
   "source": [
    "co=pd.read_excel(\"CO2 dataset.xlsx\")\n",
    "co"
   ]
  },
  {
   "cell_type": "code",
   "execution_count": 3,
   "id": "0fe5a72f",
   "metadata": {},
   "outputs": [
    {
     "data": {
      "text/plain": [
       "(215, 2)"
      ]
     },
     "execution_count": 3,
     "metadata": {},
     "output_type": "execute_result"
    }
   ],
   "source": [
    "co.shape"
   ]
  },
  {
   "cell_type": "code",
   "execution_count": 4,
   "id": "ab73f1b1",
   "metadata": {},
   "outputs": [
    {
     "name": "stdout",
     "output_type": "stream",
     "text": [
      "<class 'pandas.core.frame.DataFrame'>\n",
      "RangeIndex: 215 entries, 0 to 214\n",
      "Data columns (total 2 columns):\n",
      " #   Column  Non-Null Count  Dtype  \n",
      "---  ------  --------------  -----  \n",
      " 0   Year    215 non-null    float64\n",
      " 1   CO2     215 non-null    float64\n",
      "dtypes: float64(2)\n",
      "memory usage: 3.5 KB\n"
     ]
    }
   ],
   "source": [
    "co.info()"
   ]
  },
  {
   "cell_type": "code",
   "execution_count": 5,
   "id": "dcaf35e7",
   "metadata": {
    "scrolled": true
   },
   "outputs": [
    {
     "data": {
      "text/html": [
       "<div>\n",
       "<style scoped>\n",
       "    .dataframe tbody tr th:only-of-type {\n",
       "        vertical-align: middle;\n",
       "    }\n",
       "\n",
       "    .dataframe tbody tr th {\n",
       "        vertical-align: top;\n",
       "    }\n",
       "\n",
       "    .dataframe thead th {\n",
       "        text-align: right;\n",
       "    }\n",
       "</style>\n",
       "<table border=\"1\" class=\"dataframe\">\n",
       "  <thead>\n",
       "    <tr style=\"text-align: right;\">\n",
       "      <th></th>\n",
       "      <th>Year</th>\n",
       "      <th>CO2</th>\n",
       "    </tr>\n",
       "  </thead>\n",
       "  <tbody>\n",
       "    <tr>\n",
       "      <th>0</th>\n",
       "      <td>1800.0</td>\n",
       "      <td>0.00568</td>\n",
       "    </tr>\n",
       "    <tr>\n",
       "      <th>1</th>\n",
       "      <td>1801.0</td>\n",
       "      <td>0.00561</td>\n",
       "    </tr>\n",
       "    <tr>\n",
       "      <th>2</th>\n",
       "      <td>1802.0</td>\n",
       "      <td>0.00555</td>\n",
       "    </tr>\n",
       "    <tr>\n",
       "      <th>3</th>\n",
       "      <td>1803.0</td>\n",
       "      <td>0.00548</td>\n",
       "    </tr>\n",
       "    <tr>\n",
       "      <th>4</th>\n",
       "      <td>1804.0</td>\n",
       "      <td>0.00542</td>\n",
       "    </tr>\n",
       "    <tr>\n",
       "      <th>5</th>\n",
       "      <td>1805.0</td>\n",
       "      <td>0.00536</td>\n",
       "    </tr>\n",
       "    <tr>\n",
       "      <th>6</th>\n",
       "      <td>1806.0</td>\n",
       "      <td>0.00529</td>\n",
       "    </tr>\n",
       "    <tr>\n",
       "      <th>7</th>\n",
       "      <td>1807.0</td>\n",
       "      <td>0.00523</td>\n",
       "    </tr>\n",
       "    <tr>\n",
       "      <th>8</th>\n",
       "      <td>1808.0</td>\n",
       "      <td>0.00517</td>\n",
       "    </tr>\n",
       "    <tr>\n",
       "      <th>9</th>\n",
       "      <td>1809.0</td>\n",
       "      <td>0.00511</td>\n",
       "    </tr>\n",
       "  </tbody>\n",
       "</table>\n",
       "</div>"
      ],
      "text/plain": [
       "     Year      CO2\n",
       "0  1800.0  0.00568\n",
       "1  1801.0  0.00561\n",
       "2  1802.0  0.00555\n",
       "3  1803.0  0.00548\n",
       "4  1804.0  0.00542\n",
       "5  1805.0  0.00536\n",
       "6  1806.0  0.00529\n",
       "7  1807.0  0.00523\n",
       "8  1808.0  0.00517\n",
       "9  1809.0  0.00511"
      ]
     },
     "execution_count": 5,
     "metadata": {},
     "output_type": "execute_result"
    }
   ],
   "source": [
    "co.head(10)"
   ]
  },
  {
   "cell_type": "code",
   "execution_count": 6,
   "id": "9b48c9fd",
   "metadata": {},
   "outputs": [
    {
     "data": {
      "text/html": [
       "<div>\n",
       "<style scoped>\n",
       "    .dataframe tbody tr th:only-of-type {\n",
       "        vertical-align: middle;\n",
       "    }\n",
       "\n",
       "    .dataframe tbody tr th {\n",
       "        vertical-align: top;\n",
       "    }\n",
       "\n",
       "    .dataframe thead th {\n",
       "        text-align: right;\n",
       "    }\n",
       "</style>\n",
       "<table border=\"1\" class=\"dataframe\">\n",
       "  <thead>\n",
       "    <tr style=\"text-align: right;\">\n",
       "      <th></th>\n",
       "      <th>Year</th>\n",
       "      <th>CO2</th>\n",
       "    </tr>\n",
       "  </thead>\n",
       "  <tbody>\n",
       "    <tr>\n",
       "      <th>205</th>\n",
       "      <td>2005.0</td>\n",
       "      <td>17.3</td>\n",
       "    </tr>\n",
       "    <tr>\n",
       "      <th>206</th>\n",
       "      <td>2006.0</td>\n",
       "      <td>16.7</td>\n",
       "    </tr>\n",
       "    <tr>\n",
       "      <th>207</th>\n",
       "      <td>2007.0</td>\n",
       "      <td>16.8</td>\n",
       "    </tr>\n",
       "    <tr>\n",
       "      <th>208</th>\n",
       "      <td>2008.0</td>\n",
       "      <td>16.8</td>\n",
       "    </tr>\n",
       "    <tr>\n",
       "      <th>209</th>\n",
       "      <td>2009.0</td>\n",
       "      <td>15.9</td>\n",
       "    </tr>\n",
       "    <tr>\n",
       "      <th>210</th>\n",
       "      <td>2010.0</td>\n",
       "      <td>15.6</td>\n",
       "    </tr>\n",
       "    <tr>\n",
       "      <th>211</th>\n",
       "      <td>2011.0</td>\n",
       "      <td>15.6</td>\n",
       "    </tr>\n",
       "    <tr>\n",
       "      <th>212</th>\n",
       "      <td>2012.0</td>\n",
       "      <td>14.8</td>\n",
       "    </tr>\n",
       "    <tr>\n",
       "      <th>213</th>\n",
       "      <td>2013.0</td>\n",
       "      <td>14.7</td>\n",
       "    </tr>\n",
       "    <tr>\n",
       "      <th>214</th>\n",
       "      <td>2014.0</td>\n",
       "      <td>15.1</td>\n",
       "    </tr>\n",
       "  </tbody>\n",
       "</table>\n",
       "</div>"
      ],
      "text/plain": [
       "       Year   CO2\n",
       "205  2005.0  17.3\n",
       "206  2006.0  16.7\n",
       "207  2007.0  16.8\n",
       "208  2008.0  16.8\n",
       "209  2009.0  15.9\n",
       "210  2010.0  15.6\n",
       "211  2011.0  15.6\n",
       "212  2012.0  14.8\n",
       "213  2013.0  14.7\n",
       "214  2014.0  15.1"
      ]
     },
     "execution_count": 6,
     "metadata": {},
     "output_type": "execute_result"
    }
   ],
   "source": [
    "co.tail(10)"
   ]
  },
  {
   "cell_type": "code",
   "execution_count": 7,
   "id": "c2ced076",
   "metadata": {},
   "outputs": [
    {
     "data": {
      "text/html": [
       "<div>\n",
       "<style scoped>\n",
       "    .dataframe tbody tr th:only-of-type {\n",
       "        vertical-align: middle;\n",
       "    }\n",
       "\n",
       "    .dataframe tbody tr th {\n",
       "        vertical-align: top;\n",
       "    }\n",
       "\n",
       "    .dataframe thead th {\n",
       "        text-align: right;\n",
       "    }\n",
       "</style>\n",
       "<table border=\"1\" class=\"dataframe\">\n",
       "  <thead>\n",
       "    <tr style=\"text-align: right;\">\n",
       "      <th></th>\n",
       "      <th>Year</th>\n",
       "      <th>CO2</th>\n",
       "    </tr>\n",
       "  </thead>\n",
       "  <tbody>\n",
       "    <tr>\n",
       "      <th>count</th>\n",
       "      <td>215.000000</td>\n",
       "      <td>215.000000</td>\n",
       "    </tr>\n",
       "    <tr>\n",
       "      <th>mean</th>\n",
       "      <td>1907.000000</td>\n",
       "      <td>6.741970</td>\n",
       "    </tr>\n",
       "    <tr>\n",
       "      <th>std</th>\n",
       "      <td>62.209324</td>\n",
       "      <td>6.522437</td>\n",
       "    </tr>\n",
       "    <tr>\n",
       "      <th>min</th>\n",
       "      <td>1800.000000</td>\n",
       "      <td>0.001750</td>\n",
       "    </tr>\n",
       "    <tr>\n",
       "      <th>25%</th>\n",
       "      <td>1853.500000</td>\n",
       "      <td>0.041050</td>\n",
       "    </tr>\n",
       "    <tr>\n",
       "      <th>50%</th>\n",
       "      <td>1907.000000</td>\n",
       "      <td>6.390000</td>\n",
       "    </tr>\n",
       "    <tr>\n",
       "      <th>75%</th>\n",
       "      <td>1960.500000</td>\n",
       "      <td>11.500000</td>\n",
       "    </tr>\n",
       "    <tr>\n",
       "      <th>max</th>\n",
       "      <td>2014.000000</td>\n",
       "      <td>18.200000</td>\n",
       "    </tr>\n",
       "  </tbody>\n",
       "</table>\n",
       "</div>"
      ],
      "text/plain": [
       "              Year         CO2\n",
       "count   215.000000  215.000000\n",
       "mean   1907.000000    6.741970\n",
       "std      62.209324    6.522437\n",
       "min    1800.000000    0.001750\n",
       "25%    1853.500000    0.041050\n",
       "50%    1907.000000    6.390000\n",
       "75%    1960.500000   11.500000\n",
       "max    2014.000000   18.200000"
      ]
     },
     "execution_count": 7,
     "metadata": {},
     "output_type": "execute_result"
    }
   ],
   "source": [
    "co.describe()"
   ]
  },
  {
   "cell_type": "code",
   "execution_count": 8,
   "id": "bda080c8",
   "metadata": {},
   "outputs": [
    {
     "data": {
      "text/plain": [
       "Year    float64\n",
       "CO2     float64\n",
       "dtype: object"
      ]
     },
     "execution_count": 8,
     "metadata": {},
     "output_type": "execute_result"
    }
   ],
   "source": [
    "co.dtypes"
   ]
  },
  {
   "cell_type": "code",
   "execution_count": 9,
   "id": "e6e6d0bb",
   "metadata": {},
   "outputs": [
    {
     "data": {
      "text/plain": [
       "Year    0\n",
       "CO2     0\n",
       "dtype: int64"
      ]
     },
     "execution_count": 9,
     "metadata": {},
     "output_type": "execute_result"
    }
   ],
   "source": [
    "# Checking for Null values\n",
    "co.isnull().sum()"
   ]
  },
  {
   "cell_type": "markdown",
   "id": "200f1546",
   "metadata": {},
   "source": [
    "NO Null Values Present"
   ]
  },
  {
   "cell_type": "code",
   "execution_count": 10,
   "id": "a7649430",
   "metadata": {},
   "outputs": [
    {
     "data": {
      "text/plain": [
       "<AxesSubplot:>"
      ]
     },
     "execution_count": 10,
     "metadata": {},
     "output_type": "execute_result"
    },
    {
     "data": {
      "image/png": "[encoded data removed]",
      "text/plain": [
       "<Figure size 432x288 with 2 Axes>"
      ]
     },
     "metadata": {
      "needs_background": "light"
     },
     "output_type": "display_data"
    }
   ],
   "source": [
    "sns.heatmap(co.isnull())"
   ]
  },
  {
   "cell_type": "code",
   "execution_count": 11,
   "id": "ae643753",
   "metadata": {},
   "outputs": [
    {
     "data": {
      "text/html": [
       "<div>\n",
       "<style scoped>\n",
       "    .dataframe tbody tr th:only-of-type {\n",
       "        vertical-align: middle;\n",
       "    }\n",
       "\n",
       "    .dataframe tbody tr th {\n",
       "        vertical-align: top;\n",
       "    }\n",
       "\n",
       "    .dataframe thead th {\n",
       "        text-align: right;\n",
       "    }\n",
       "</style>\n",
       "<table border=\"1\" class=\"dataframe\">\n",
       "  <thead>\n",
       "    <tr style=\"text-align: right;\">\n",
       "      <th></th>\n",
       "      <th>Year</th>\n",
       "      <th>CO2</th>\n",
       "    </tr>\n",
       "  </thead>\n",
       "  <tbody>\n",
       "  </tbody>\n",
       "</table>\n",
       "</div>"
      ],
      "text/plain": [
       "Empty DataFrame\n",
       "Columns: [Year, CO2]\n",
       "Index: []"
      ]
     },
     "execution_count": 11,
     "metadata": {},
     "output_type": "execute_result"
    }
   ],
   "source": [
    "# Checking for Duplicate Values\n",
    "co[co.duplicated()]"
   ]
  },
  {
   "cell_type": "markdown",
   "id": "ad7d59e6",
   "metadata": {},
   "source": [
    "NO Duplicate Values Present"
   ]
  },
  {
   "cell_type": "code",
   "execution_count": 12,
   "id": "a57c4ff3",
   "metadata": {},
   "outputs": [
    {
     "data": {
      "text/html": [
       "<div>\n",
       "<style scoped>\n",
       "    .dataframe tbody tr th:only-of-type {\n",
       "        vertical-align: middle;\n",
       "    }\n",
       "\n",
       "    .dataframe tbody tr th {\n",
       "        vertical-align: top;\n",
       "    }\n",
       "\n",
       "    .dataframe thead th {\n",
       "        text-align: right;\n",
       "    }\n",
       "</style>\n",
       "<table border=\"1\" class=\"dataframe\">\n",
       "  <thead>\n",
       "    <tr style=\"text-align: right;\">\n",
       "      <th></th>\n",
       "      <th>Year</th>\n",
       "      <th>CO2</th>\n",
       "    </tr>\n",
       "  </thead>\n",
       "  <tbody>\n",
       "    <tr>\n",
       "      <th>Year</th>\n",
       "      <td>1.000000</td>\n",
       "      <td>0.951243</td>\n",
       "    </tr>\n",
       "    <tr>\n",
       "      <th>CO2</th>\n",
       "      <td>0.951243</td>\n",
       "      <td>1.000000</td>\n",
       "    </tr>\n",
       "  </tbody>\n",
       "</table>\n",
       "</div>"
      ],
      "text/plain": [
       "          Year       CO2\n",
       "Year  1.000000  0.951243\n",
       "CO2   0.951243  1.000000"
      ]
     },
     "execution_count": 12,
     "metadata": {},
     "output_type": "execute_result"
    }
   ],
   "source": [
    "# Checking The Corelation\n",
    "co.corr()"
   ]
  },
  {
   "cell_type": "code",
   "execution_count": 13,
   "id": "41e97112",
   "metadata": {},
   "outputs": [
    {
     "data": {
      "image/png": "[encoded data removed]",
      "text/plain": [
       "<Figure size 432x288 with 2 Axes>"
      ]
     },
     "metadata": {
      "needs_background": "light"
     },
     "output_type": "display_data"
    }
   ],
   "source": [
    "sns.heatmap(co.corr(),annot=True)\n",
    "plt.show()"
   ]
  },
  {
   "cell_type": "code",
   "execution_count": 14,
   "id": "a91ea724",
   "metadata": {},
   "outputs": [
    {
     "data": {
      "image/png": "[encoded data removed]",
      "text/plain": [
       "<Figure size 1080x720 with 1 Axes>"
      ]
     },
     "metadata": {
      "needs_background": "light"
     },
     "output_type": "display_data"
    }
   ],
   "source": [
    "# Visualisation Using Scatterplot\n",
    "plt.figure(figsize=(15,10))\n",
    "sns.scatterplot(x='Year',y='CO2',data=co)\n",
    "plt.show()"
   ]
  },
  {
   "cell_type": "code",
   "execution_count": 15,
   "id": "b5548b4d",
   "metadata": {},
   "outputs": [
    {
     "data": {
      "image/png": "[encoded data removed]",
      "text/plain": [
       "<Figure size 1080x720 with 1 Axes>"
      ]
     },
     "metadata": {
      "needs_background": "light"
     },
     "output_type": "display_data"
    }
   ],
   "source": [
    "# Visualization using Barplot\n",
    "plt.figure(figsize=(15,10))\n",
    "sns.barplot(x='Year',y='CO2',data=co)\n",
    "plt.show()"
   ]
  },
  {
   "cell_type": "code",
   "execution_count": 16,
   "id": "8b8fd937",
   "metadata": {},
   "outputs": [
    {
     "data": {
      "image/png": "[encoded data removed]",
      "text/plain": [
       "<Figure size 576x360 with 1 Axes>"
      ]
     },
     "metadata": {
      "needs_background": "light"
     },
     "output_type": "display_data"
    }
   ],
   "source": [
    "# Detecting Outliers\n",
    "plt.figure(figsize=(8,5))\n",
    "sns.boxplot(co.CO2)\n",
    "plt.show()"
   ]
  },
  {
   "cell_type": "code",
   "execution_count": 17,
   "id": "3d2e4f0a",
   "metadata": {},
   "outputs": [
    {
     "data": {
      "image/png": "[encoded data removed]",
      "text/plain": [
       "<Figure size 576x360 with 1 Axes>"
      ]
     },
     "metadata": {
      "needs_background": "light"
     },
     "output_type": "display_data"
    }
   ],
   "source": [
    "plt.figure(figsize=(8,5))\n",
    "sns.boxplot(co.Year)\n",
    "plt.show()"
   ]
  },
  {
   "cell_type": "markdown",
   "id": "344a53ae",
   "metadata": {},
   "source": [
    "Data is free from Outliers"
   ]
  },
  {
   "cell_type": "code",
   "execution_count": 18,
   "id": "5274cb60",
   "metadata": {},
   "outputs": [
    {
     "data": {
      "image/png": "[encoded data removed]",
      "text/plain": [
       "<Figure size 432x288 with 1 Axes>"
      ]
     },
     "metadata": {
      "needs_background": "light"
     },
     "output_type": "display_data"
    }
   ],
   "source": [
    "# Visualization Using kdeplot\n",
    "\n",
    "\n",
    "sns.kdeplot(co.CO2)\n",
    "plt.show()"
   ]
  },
  {
   "cell_type": "code",
   "execution_count": 19,
   "id": "a532772f",
   "metadata": {},
   "outputs": [
    {
     "data": {
      "image/png": "[encoded data removed]",
      "text/plain": [
       "<Figure size 360x360 with 6 Axes>"
      ]
     },
     "metadata": {
      "needs_background": "light"
     },
     "output_type": "display_data"
    }
   ],
   "source": [
    "sns.pairplot(co)\n",
    "plt.show()"
   ]
  },
  {
   "cell_type": "markdown",
   "id": "e6fcd6ae",
   "metadata": {},
   "source": [
    "#### Converting float into datetime format"
   ]
  },
  {
   "cell_type": "code",
   "execution_count": 20,
   "id": "0e48fb5a",
   "metadata": {},
   "outputs": [],
   "source": [
    "co2=co.copy()"
   ]
  },
  {
   "cell_type": "code",
   "execution_count": 21,
   "id": "b2e89749",
   "metadata": {},
   "outputs": [
    {
     "data": {
      "text/html": [
       "<div>\n",
       "<style scoped>\n",
       "    .dataframe tbody tr th:only-of-type {\n",
       "        vertical-align: middle;\n",
       "    }\n",
       "\n",
       "    .dataframe tbody tr th {\n",
       "        vertical-align: top;\n",
       "    }\n",
       "\n",
       "    .dataframe thead th {\n",
       "        text-align: right;\n",
       "    }\n",
       "</style>\n",
       "<table border=\"1\" class=\"dataframe\">\n",
       "  <thead>\n",
       "    <tr style=\"text-align: right;\">\n",
       "      <th></th>\n",
       "      <th>Year</th>\n",
       "      <th>CO2</th>\n",
       "    </tr>\n",
       "  </thead>\n",
       "  <tbody>\n",
       "    <tr>\n",
       "      <th>0</th>\n",
       "      <td>1970-01-01 00:00:00.000001800</td>\n",
       "      <td>0.00568</td>\n",
       "    </tr>\n",
       "    <tr>\n",
       "      <th>1</th>\n",
       "      <td>1970-01-01 00:00:00.000001801</td>\n",
       "      <td>0.00561</td>\n",
       "    </tr>\n",
       "    <tr>\n",
       "      <th>2</th>\n",
       "      <td>1970-01-01 00:00:00.000001802</td>\n",
       "      <td>0.00555</td>\n",
       "    </tr>\n",
       "    <tr>\n",
       "      <th>3</th>\n",
       "      <td>1970-01-01 00:00:00.000001803</td>\n",
       "      <td>0.00548</td>\n",
       "    </tr>\n",
       "    <tr>\n",
       "      <th>4</th>\n",
       "      <td>1970-01-01 00:00:00.000001804</td>\n",
       "      <td>0.00542</td>\n",
       "    </tr>\n",
       "    <tr>\n",
       "      <th>...</th>\n",
       "      <td>...</td>\n",
       "      <td>...</td>\n",
       "    </tr>\n",
       "    <tr>\n",
       "      <th>210</th>\n",
       "      <td>1970-01-01 00:00:00.000002010</td>\n",
       "      <td>15.60000</td>\n",
       "    </tr>\n",
       "    <tr>\n",
       "      <th>211</th>\n",
       "      <td>1970-01-01 00:00:00.000002011</td>\n",
       "      <td>15.60000</td>\n",
       "    </tr>\n",
       "    <tr>\n",
       "      <th>212</th>\n",
       "      <td>1970-01-01 00:00:00.000002012</td>\n",
       "      <td>14.80000</td>\n",
       "    </tr>\n",
       "    <tr>\n",
       "      <th>213</th>\n",
       "      <td>1970-01-01 00:00:00.000002013</td>\n",
       "      <td>14.70000</td>\n",
       "    </tr>\n",
       "    <tr>\n",
       "      <th>214</th>\n",
       "      <td>1970-01-01 00:00:00.000002014</td>\n",
       "      <td>15.10000</td>\n",
       "    </tr>\n",
       "  </tbody>\n",
       "</table>\n",
       "<p>215 rows × 2 columns</p>\n",
       "</div>"
      ],
      "text/plain": [
       "                             Year       CO2\n",
       "0   1970-01-01 00:00:00.000001800   0.00568\n",
       "1   1970-01-01 00:00:00.000001801   0.00561\n",
       "2   1970-01-01 00:00:00.000001802   0.00555\n",
       "3   1970-01-01 00:00:00.000001803   0.00548\n",
       "4   1970-01-01 00:00:00.000001804   0.00542\n",
       "..                            ...       ...\n",
       "210 1970-01-01 00:00:00.000002010  15.60000\n",
       "211 1970-01-01 00:00:00.000002011  15.60000\n",
       "212 1970-01-01 00:00:00.000002012  14.80000\n",
       "213 1970-01-01 00:00:00.000002013  14.70000\n",
       "214 1970-01-01 00:00:00.000002014  15.10000\n",
       "\n",
       "[215 rows x 2 columns]"
      ]
     },
     "execution_count": 21,
     "metadata": {},
     "output_type": "execute_result"
    }
   ],
   "source": [
    "co2[\"Year\"]=pd.to_datetime(co2[\"Year\"])\n",
    "co2"
   ]
  },
  {
   "cell_type": "markdown",
   "id": "407c76ce",
   "metadata": {},
   "source": [
    "### Time Series Decomposition Plot"
   ]
  },
  {
   "cell_type": "code",
   "execution_count": 22,
   "id": "be884d2c",
   "metadata": {},
   "outputs": [],
   "source": [
    "from statsmodels.tsa.seasonal import seasonal_decompose"
   ]
  },
  {
   "cell_type": "code",
   "execution_count": 23,
   "id": "3279652c",
   "metadata": {},
   "outputs": [
    {
     "data": {
      "image/png": "[encoded data removed]",
      "text/plain": [
       "<Figure size 432x288 with 4 Axes>"
      ]
     },
     "metadata": {
      "needs_background": "light"
     },
     "output_type": "display_data"
    }
   ],
   "source": [
    "decompose_ts_add=seasonal_decompose(co[\"CO2\"],period=12)\n",
    "decompose_ts_add.plot()\n",
    "plt.show()"
   ]
  },
  {
   "cell_type": "markdown",
   "id": "0a542b20",
   "metadata": {},
   "source": [
    "### ACF plots and PACF plots - To Identify the significant features that contribute to forcast"
   ]
  },
  {
   "cell_type": "code",
   "execution_count": 24,
   "id": "42370a57",
   "metadata": {},
   "outputs": [],
   "source": [
    "import statsmodels.graphics.tsaplots as tsa_plots"
   ]
  },
  {
   "cell_type": "code",
   "execution_count": 25,
   "id": "a0e9773e",
   "metadata": {},
   "outputs": [
    {
     "data": {
      "image/png": "[encoded data removed]",
      "text/plain": [
       "<Figure size 432x288 with 1 Axes>"
      ]
     },
     "metadata": {
      "needs_background": "light"
     },
     "output_type": "display_data"
    }
   ],
   "source": [
    "tsa_plots.plot_acf(co[\"CO2\"],lags=12,color=\"chartreuse\")\n",
    "plt.show()"
   ]
  },
  {
   "cell_type": "code",
   "execution_count": 26,
   "id": "dc0363ff",
   "metadata": {},
   "outputs": [
    {
     "data": {
      "image/png": "[encoded data removed]",
      "text/plain": [
       "<Figure size 432x288 with 1 Axes>"
      ]
     },
     "metadata": {
      "needs_background": "light"
     },
     "output_type": "display_data"
    }
   ],
   "source": [
    "tsa_plots.plot_pacf(co[\"CO2\"],lags=12,color=\"orangered\")\n",
    "plt.show()"
   ]
  },
  {
   "cell_type": "markdown",
   "id": "26b8d5c4",
   "metadata": {},
   "source": [
    "### Transformations"
   ]
  },
  {
   "cell_type": "markdown",
   "id": "06b1957b",
   "metadata": {},
   "source": [
    "#### Square Root Transform"
   ]
  },
  {
   "cell_type": "code",
   "execution_count": 27,
   "id": "95e44486",
   "metadata": {},
   "outputs": [
    {
     "data": {
      "image/png": "[encoded data removed]",
      "text/plain": [
       "<Figure size 504x504 with 1 Axes>"
      ]
     },
     "metadata": {
      "needs_background": "light"
     },
     "output_type": "display_data"
    }
   ],
   "source": [
    "#Square root transformation\n",
    "co['sqrt_CO2'] = np.sqrt(co['CO2'])\n",
    "co.hist(column='sqrt_CO2',figsize=(7,7))\n",
    "plt.show()"
   ]
  },
  {
   "cell_type": "markdown",
   "id": "4ddbf815",
   "metadata": {},
   "source": [
    "#### Log Transform"
   ]
  },
  {
   "cell_type": "code",
   "execution_count": 28,
   "id": "48a1890f",
   "metadata": {},
   "outputs": [
    {
     "data": {
      "image/png": "[encoded data removed]",
      "text/plain": [
       "<Figure size 504x504 with 1 Axes>"
      ]
     },
     "metadata": {
      "needs_background": "light"
     },
     "output_type": "display_data"
    }
   ],
   "source": [
    "#Log Transformation\n",
    "\n",
    "co['Log_CO2'] = np.log(co['CO2'])\n",
    "co.hist(column='Log_CO2',figsize=(7,7))\n",
    "plt.show()"
   ]
  },
  {
   "cell_type": "markdown",
   "id": "0a25e9be",
   "metadata": {},
   "source": [
    "#### Reciprocal Transform:"
   ]
  },
  {
   "cell_type": "code",
   "execution_count": 29,
   "id": "81967515",
   "metadata": {},
   "outputs": [
    {
     "data": {
      "image/png": "[encoded data removed]",
      "text/plain": [
       "<Figure size 504x504 with 1 Axes>"
      ]
     },
     "metadata": {
      "needs_background": "light"
     },
     "output_type": "display_data"
    }
   ],
   "source": [
    "#Reciprocal Transformation\n",
    "\n",
    "co['recp_CO2'] = np.reciprocal(co['CO2'])\n",
    "co.hist(column='recp_CO2',figsize=(7,7))\n",
    "plt.show()"
   ]
  },
  {
   "cell_type": "markdown",
   "id": "039dd10d",
   "metadata": {},
   "source": [
    "### Exponential transformation:"
   ]
  },
  {
   "cell_type": "code",
   "execution_count": 30,
   "id": "99435b51",
   "metadata": {},
   "outputs": [
    {
     "data": {
      "image/png": "[encoded data removed]",
      "text/plain": [
       "<Figure size 504x504 with 1 Axes>"
      ]
     },
     "metadata": {
      "needs_background": "light"
     },
     "output_type": "display_data"
    }
   ],
   "source": [
    "#Exponential transformation\n",
    "\n",
    "co['exp_CO2'] = np.exp(co['CO2'])\n",
    "co.hist(column='exp_CO2',figsize=(7,7))\n",
    "plt.show()"
   ]
  },
  {
   "cell_type": "code",
   "execution_count": 31,
   "id": "a1338422",
   "metadata": {},
   "outputs": [
    {
     "data": {
      "text/html": [
       "<div>\n",
       "<style scoped>\n",
       "    .dataframe tbody tr th:only-of-type {\n",
       "        vertical-align: middle;\n",
       "    }\n",
       "\n",
       "    .dataframe tbody tr th {\n",
       "        vertical-align: top;\n",
       "    }\n",
       "\n",
       "    .dataframe thead th {\n",
       "        text-align: right;\n",
       "    }\n",
       "</style>\n",
       "<table border=\"1\" class=\"dataframe\">\n",
       "  <thead>\n",
       "    <tr style=\"text-align: right;\">\n",
       "      <th></th>\n",
       "      <th>Year</th>\n",
       "      <th>CO2</th>\n",
       "      <th>sqrt_CO2</th>\n",
       "      <th>Log_CO2</th>\n",
       "      <th>recp_CO2</th>\n",
       "      <th>exp_CO2</th>\n",
       "    </tr>\n",
       "  </thead>\n",
       "  <tbody>\n",
       "    <tr>\n",
       "      <th>0</th>\n",
       "      <td>1800.0</td>\n",
       "      <td>0.00568</td>\n",
       "      <td>0.075366</td>\n",
       "      <td>-5.170804</td>\n",
       "      <td>176.056338</td>\n",
       "      <td>1.005696e+00</td>\n",
       "    </tr>\n",
       "    <tr>\n",
       "      <th>1</th>\n",
       "      <td>1801.0</td>\n",
       "      <td>0.00561</td>\n",
       "      <td>0.074900</td>\n",
       "      <td>-5.183205</td>\n",
       "      <td>178.253119</td>\n",
       "      <td>1.005626e+00</td>\n",
       "    </tr>\n",
       "    <tr>\n",
       "      <th>2</th>\n",
       "      <td>1802.0</td>\n",
       "      <td>0.00555</td>\n",
       "      <td>0.074498</td>\n",
       "      <td>-5.193957</td>\n",
       "      <td>180.180180</td>\n",
       "      <td>1.005565e+00</td>\n",
       "    </tr>\n",
       "    <tr>\n",
       "      <th>3</th>\n",
       "      <td>1803.0</td>\n",
       "      <td>0.00548</td>\n",
       "      <td>0.074027</td>\n",
       "      <td>-5.206650</td>\n",
       "      <td>182.481752</td>\n",
       "      <td>1.005495e+00</td>\n",
       "    </tr>\n",
       "    <tr>\n",
       "      <th>4</th>\n",
       "      <td>1804.0</td>\n",
       "      <td>0.00542</td>\n",
       "      <td>0.073621</td>\n",
       "      <td>-5.217659</td>\n",
       "      <td>184.501845</td>\n",
       "      <td>1.005435e+00</td>\n",
       "    </tr>\n",
       "    <tr>\n",
       "      <th>...</th>\n",
       "      <td>...</td>\n",
       "      <td>...</td>\n",
       "      <td>...</td>\n",
       "      <td>...</td>\n",
       "      <td>...</td>\n",
       "      <td>...</td>\n",
       "    </tr>\n",
       "    <tr>\n",
       "      <th>210</th>\n",
       "      <td>2010.0</td>\n",
       "      <td>15.60000</td>\n",
       "      <td>3.949684</td>\n",
       "      <td>2.747271</td>\n",
       "      <td>0.064103</td>\n",
       "      <td>5.956538e+06</td>\n",
       "    </tr>\n",
       "    <tr>\n",
       "      <th>211</th>\n",
       "      <td>2011.0</td>\n",
       "      <td>15.60000</td>\n",
       "      <td>3.949684</td>\n",
       "      <td>2.747271</td>\n",
       "      <td>0.064103</td>\n",
       "      <td>5.956538e+06</td>\n",
       "    </tr>\n",
       "    <tr>\n",
       "      <th>212</th>\n",
       "      <td>2012.0</td>\n",
       "      <td>14.80000</td>\n",
       "      <td>3.847077</td>\n",
       "      <td>2.694627</td>\n",
       "      <td>0.067568</td>\n",
       "      <td>2.676445e+06</td>\n",
       "    </tr>\n",
       "    <tr>\n",
       "      <th>213</th>\n",
       "      <td>2013.0</td>\n",
       "      <td>14.70000</td>\n",
       "      <td>3.834058</td>\n",
       "      <td>2.687847</td>\n",
       "      <td>0.068027</td>\n",
       "      <td>2.421748e+06</td>\n",
       "    </tr>\n",
       "    <tr>\n",
       "      <th>214</th>\n",
       "      <td>2014.0</td>\n",
       "      <td>15.10000</td>\n",
       "      <td>3.885872</td>\n",
       "      <td>2.714695</td>\n",
       "      <td>0.066225</td>\n",
       "      <td>3.612823e+06</td>\n",
       "    </tr>\n",
       "  </tbody>\n",
       "</table>\n",
       "<p>215 rows × 6 columns</p>\n",
       "</div>"
      ],
      "text/plain": [
       "       Year       CO2  sqrt_CO2   Log_CO2    recp_CO2       exp_CO2\n",
       "0    1800.0   0.00568  0.075366 -5.170804  176.056338  1.005696e+00\n",
       "1    1801.0   0.00561  0.074900 -5.183205  178.253119  1.005626e+00\n",
       "2    1802.0   0.00555  0.074498 -5.193957  180.180180  1.005565e+00\n",
       "3    1803.0   0.00548  0.074027 -5.206650  182.481752  1.005495e+00\n",
       "4    1804.0   0.00542  0.073621 -5.217659  184.501845  1.005435e+00\n",
       "..      ...       ...       ...       ...         ...           ...\n",
       "210  2010.0  15.60000  3.949684  2.747271    0.064103  5.956538e+06\n",
       "211  2011.0  15.60000  3.949684  2.747271    0.064103  5.956538e+06\n",
       "212  2012.0  14.80000  3.847077  2.694627    0.067568  2.676445e+06\n",
       "213  2013.0  14.70000  3.834058  2.687847    0.068027  2.421748e+06\n",
       "214  2014.0  15.10000  3.885872  2.714695    0.066225  3.612823e+06\n",
       "\n",
       "[215 rows x 6 columns]"
      ]
     },
     "execution_count": 31,
     "metadata": {},
     "output_type": "execute_result"
    }
   ],
   "source": [
    "co"
   ]
  },
  {
   "cell_type": "code",
   "execution_count": 32,
   "id": "1197310a",
   "metadata": {},
   "outputs": [],
   "source": [
    "from sklearn.preprocessing import MinMaxScaler\n",
    "scaler = MinMaxScaler()\n",
    "scaler.fit(co)\n",
    "scaled_features = scaler.transform(co)"
   ]
  },
  {
   "cell_type": "code",
   "execution_count": 33,
   "id": "cdc79d42",
   "metadata": {},
   "outputs": [
    {
     "name": "stdout",
     "output_type": "stream",
     "text": [
      "[[-1.724  -1.0352 -1.2476 -1.5114  0.8199 -0.3848]\n",
      " [-1.7079 -1.0352 -1.2479 -1.5151  0.8364 -0.3848]\n",
      " [-1.6918 -1.0352 -1.2482 -1.5184  0.8509 -0.3848]\n",
      " ...\n",
      " [ 1.6918  1.2383  1.1292  0.8591 -0.5011 -0.1383]\n",
      " [ 1.7079  1.2229  1.121   0.857  -0.5011 -0.1617]\n",
      " [ 1.724   1.2844  1.1536  0.8651 -0.5011 -0.052 ]]\n"
     ]
    }
   ],
   "source": [
    "# Standardizing dataset :\n",
    "from sklearn.preprocessing import StandardScaler\n",
    "array = co.dropna().values\n",
    "scaler = StandardScaler().fit(array)\n",
    "rescaled = scaler.transform(array)\n",
    "\n",
    "# summarize transformed data\n",
    "from numpy import set_printoptions\n",
    "set_printoptions(precision=4)\n",
    "print(rescaled[:,:])"
   ]
  },
  {
   "cell_type": "markdown",
   "id": "e275dc59",
   "metadata": {},
   "source": [
    "### Time Series Forecasting Models"
   ]
  },
  {
   "cell_type": "code",
   "execution_count": 34,
   "id": "5b0fc384",
   "metadata": {},
   "outputs": [],
   "source": [
    "# Splitting the data\n",
    "Train=co.head(170)\n",
    "Test=co.tail(45)"
   ]
  },
  {
   "cell_type": "code",
   "execution_count": 35,
   "id": "9142d003",
   "metadata": {},
   "outputs": [
    {
     "data": {
      "text/html": [
       "<div>\n",
       "<style scoped>\n",
       "    .dataframe tbody tr th:only-of-type {\n",
       "        vertical-align: middle;\n",
       "    }\n",
       "\n",
       "    .dataframe tbody tr th {\n",
       "        vertical-align: top;\n",
       "    }\n",
       "\n",
       "    .dataframe thead th {\n",
       "        text-align: right;\n",
       "    }\n",
       "</style>\n",
       "<table border=\"1\" class=\"dataframe\">\n",
       "  <thead>\n",
       "    <tr style=\"text-align: right;\">\n",
       "      <th></th>\n",
       "      <th>Year</th>\n",
       "      <th>CO2</th>\n",
       "      <th>sqrt_CO2</th>\n",
       "      <th>Log_CO2</th>\n",
       "      <th>recp_CO2</th>\n",
       "      <th>exp_CO2</th>\n",
       "    </tr>\n",
       "  </thead>\n",
       "  <tbody>\n",
       "    <tr>\n",
       "      <th>0</th>\n",
       "      <td>1800.0</td>\n",
       "      <td>0.00568</td>\n",
       "      <td>0.075366</td>\n",
       "      <td>-5.170804</td>\n",
       "      <td>176.056338</td>\n",
       "      <td>1.005696</td>\n",
       "    </tr>\n",
       "    <tr>\n",
       "      <th>1</th>\n",
       "      <td>1801.0</td>\n",
       "      <td>0.00561</td>\n",
       "      <td>0.074900</td>\n",
       "      <td>-5.183205</td>\n",
       "      <td>178.253119</td>\n",
       "      <td>1.005626</td>\n",
       "    </tr>\n",
       "    <tr>\n",
       "      <th>2</th>\n",
       "      <td>1802.0</td>\n",
       "      <td>0.00555</td>\n",
       "      <td>0.074498</td>\n",
       "      <td>-5.193957</td>\n",
       "      <td>180.180180</td>\n",
       "      <td>1.005565</td>\n",
       "    </tr>\n",
       "    <tr>\n",
       "      <th>3</th>\n",
       "      <td>1803.0</td>\n",
       "      <td>0.00548</td>\n",
       "      <td>0.074027</td>\n",
       "      <td>-5.206650</td>\n",
       "      <td>182.481752</td>\n",
       "      <td>1.005495</td>\n",
       "    </tr>\n",
       "    <tr>\n",
       "      <th>4</th>\n",
       "      <td>1804.0</td>\n",
       "      <td>0.00542</td>\n",
       "      <td>0.073621</td>\n",
       "      <td>-5.217659</td>\n",
       "      <td>184.501845</td>\n",
       "      <td>1.005435</td>\n",
       "    </tr>\n",
       "  </tbody>\n",
       "</table>\n",
       "</div>"
      ],
      "text/plain": [
       "     Year      CO2  sqrt_CO2   Log_CO2    recp_CO2   exp_CO2\n",
       "0  1800.0  0.00568  0.075366 -5.170804  176.056338  1.005696\n",
       "1  1801.0  0.00561  0.074900 -5.183205  178.253119  1.005626\n",
       "2  1802.0  0.00555  0.074498 -5.193957  180.180180  1.005565\n",
       "3  1803.0  0.00548  0.074027 -5.206650  182.481752  1.005495\n",
       "4  1804.0  0.00542  0.073621 -5.217659  184.501845  1.005435"
      ]
     },
     "execution_count": 35,
     "metadata": {},
     "output_type": "execute_result"
    }
   ],
   "source": [
    "Train.head()"
   ]
  },
  {
   "cell_type": "code",
   "execution_count": 36,
   "id": "8f09e646",
   "metadata": {},
   "outputs": [
    {
     "data": {
      "text/html": [
       "<div>\n",
       "<style scoped>\n",
       "    .dataframe tbody tr th:only-of-type {\n",
       "        vertical-align: middle;\n",
       "    }\n",
       "\n",
       "    .dataframe tbody tr th {\n",
       "        vertical-align: top;\n",
       "    }\n",
       "\n",
       "    .dataframe thead th {\n",
       "        text-align: right;\n",
       "    }\n",
       "</style>\n",
       "<table border=\"1\" class=\"dataframe\">\n",
       "  <thead>\n",
       "    <tr style=\"text-align: right;\">\n",
       "      <th></th>\n",
       "      <th>Year</th>\n",
       "      <th>CO2</th>\n",
       "      <th>sqrt_CO2</th>\n",
       "      <th>Log_CO2</th>\n",
       "      <th>recp_CO2</th>\n",
       "      <th>exp_CO2</th>\n",
       "    </tr>\n",
       "  </thead>\n",
       "  <tbody>\n",
       "    <tr>\n",
       "      <th>170</th>\n",
       "      <td>1970.0</td>\n",
       "      <td>15.9</td>\n",
       "      <td>3.987480</td>\n",
       "      <td>2.766319</td>\n",
       "      <td>0.062893</td>\n",
       "      <td>8.040485e+06</td>\n",
       "    </tr>\n",
       "    <tr>\n",
       "      <th>171</th>\n",
       "      <td>1971.0</td>\n",
       "      <td>16.2</td>\n",
       "      <td>4.024922</td>\n",
       "      <td>2.785011</td>\n",
       "      <td>0.061728</td>\n",
       "      <td>1.085352e+07</td>\n",
       "    </tr>\n",
       "    <tr>\n",
       "      <th>172</th>\n",
       "      <td>1972.0</td>\n",
       "      <td>17.2</td>\n",
       "      <td>4.147288</td>\n",
       "      <td>2.844909</td>\n",
       "      <td>0.058140</td>\n",
       "      <td>2.950293e+07</td>\n",
       "    </tr>\n",
       "    <tr>\n",
       "      <th>173</th>\n",
       "      <td>1973.0</td>\n",
       "      <td>17.0</td>\n",
       "      <td>4.123106</td>\n",
       "      <td>2.833213</td>\n",
       "      <td>0.058824</td>\n",
       "      <td>2.415495e+07</td>\n",
       "    </tr>\n",
       "    <tr>\n",
       "      <th>174</th>\n",
       "      <td>1974.0</td>\n",
       "      <td>17.1</td>\n",
       "      <td>4.135215</td>\n",
       "      <td>2.839078</td>\n",
       "      <td>0.058480</td>\n",
       "      <td>2.669535e+07</td>\n",
       "    </tr>\n",
       "  </tbody>\n",
       "</table>\n",
       "</div>"
      ],
      "text/plain": [
       "       Year   CO2  sqrt_CO2   Log_CO2  recp_CO2       exp_CO2\n",
       "170  1970.0  15.9  3.987480  2.766319  0.062893  8.040485e+06\n",
       "171  1971.0  16.2  4.024922  2.785011  0.061728  1.085352e+07\n",
       "172  1972.0  17.2  4.147288  2.844909  0.058140  2.950293e+07\n",
       "173  1973.0  17.0  4.123106  2.833213  0.058824  2.415495e+07\n",
       "174  1974.0  17.1  4.135215  2.839078  0.058480  2.669535e+07"
      ]
     },
     "execution_count": 36,
     "metadata": {},
     "output_type": "execute_result"
    }
   ],
   "source": [
    "Test.head()"
   ]
  },
  {
   "cell_type": "code",
   "execution_count": 37,
   "id": "2181a59c",
   "metadata": {},
   "outputs": [],
   "source": [
    "# Creating a user defined function- to calculate the RMSE value\n",
    "\n",
    "def RMSE_Value(forecast, actual):\n",
    "\n",
    "    rmse_val = np.mean((forecast - actual)**2)**.5  \n",
    "    return(rmse_val)"
   ]
  },
  {
   "cell_type": "markdown",
   "id": "31a2656e",
   "metadata": {},
   "source": [
    "### Simple Exponential Method"
   ]
  },
  {
   "cell_type": "code",
   "execution_count": 38,
   "id": "8762d7dc",
   "metadata": {},
   "outputs": [],
   "source": [
    "from statsmodels.tsa.holtwinters import SimpleExpSmoothing # SES\n",
    "from statsmodels.tsa.holtwinters import Holt # Holts Exponential Smoothing\n",
    "from statsmodels.tsa.holtwinters import ExponentialSmoothing"
   ]
  },
  {
   "cell_type": "code",
   "execution_count": 39,
   "id": "a93ae638",
   "metadata": {},
   "outputs": [
    {
     "data": {
      "text/plain": [
       "2.066358260373495"
      ]
     },
     "execution_count": 39,
     "metadata": {},
     "output_type": "execute_result"
    }
   ],
   "source": [
    "# Model Building\n",
    "ses_model = SimpleExpSmoothing(Train[\"CO2\"]).fit()\n",
    "# Model fitting\n",
    "pred_ses = ses_model.predict(start = Test.index[0],end = Test.index[-1])\n",
    "# RMSE Value\n",
    "rmse_ses_model = RMSE_Value(pred_ses,Test.CO2)\n",
    "rmse_ses_model"
   ]
  },
  {
   "cell_type": "code",
   "execution_count": 40,
   "id": "9b3d9ff9",
   "metadata": {},
   "outputs": [
    {
     "data": {
      "image/png": "[encoded data removed]",
      "text/plain": [
       "<Figure size 1296x576 with 1 Axes>"
      ]
     },
     "metadata": {
      "needs_background": "light"
     },
     "output_type": "display_data"
    }
   ],
   "source": [
    "# Exponential Smoothing-Single:\n",
    "\n",
    "data_SE = co[1:172][\"CO2\"]\n",
    "\n",
    "\n",
    "fit1 = SimpleExpSmoothing(Train[\"CO2\"]).fit(smoothing_level=0.8, optimized=False)\n",
    "\n",
    "\n",
    "plt.figure(figsize=(18,8))\n",
    "\n",
    "\n",
    "plt.plot(data_SE, marker=\"o\", color=\"black\", label='Data') \n",
    "\n",
    "plt.xticks(rotation=30)\n",
    "\n",
    "plt.plot(fit1.fittedvalues, marker=\"o\", color=\"red\",label='Single Exponential')\n",
    "\n",
    "plt.title('Single Exponential Smoothing')\n",
    "\n",
    "plt.legend(loc='upper left', fontsize=8)\n",
    "\n",
    "plt.show()"
   ]
  },
  {
   "cell_type": "markdown",
   "id": "3c891ee5",
   "metadata": {},
   "source": [
    "### Holt Method"
   ]
  },
  {
   "cell_type": "code",
   "execution_count": 41,
   "id": "17064c90",
   "metadata": {},
   "outputs": [
    {
     "data": {
      "text/plain": [
       "1.6331494536362703"
      ]
     },
     "execution_count": 41,
     "metadata": {},
     "output_type": "execute_result"
    }
   ],
   "source": [
    "# Model Building\n",
    "hw_model = Holt(Train['CO2']).fit()\n",
    "# Model Prediction\n",
    "pred_hw = hw_model.predict(start = Test.index[0],end= Test.index[-1])\n",
    "# RMSE Value \n",
    "rmse_hw_model = RMSE_Value(pred_hw,Test.CO2)\n",
    "rmse_hw_model"
   ]
  },
  {
   "cell_type": "code",
   "execution_count": 42,
   "id": "4c4d8b27",
   "metadata": {},
   "outputs": [
    {
     "data": {
      "image/png": "[encoded data removed]",
      "text/plain": [
       "<Figure size 1296x576 with 1 Axes>"
      ]
     },
     "metadata": {
      "needs_background": "light"
     },
     "output_type": "display_data"
    }
   ],
   "source": [
    "# Holt Method\n",
    "\n",
    "\n",
    "fit2 = Holt(Train[\"CO2\"], exponential=True).fit(smoothing_level=0.8)\n",
    "\n",
    "plt.figure(figsize=(18,8))\n",
    "\n",
    "\n",
    "\n",
    "plt.plot(data_SE, marker=\"o\", color=\"black\", label='Data') \n",
    "\n",
    "plt.xticks(rotation=30)\n",
    "\n",
    "\n",
    "\n",
    "plt.plot(fit2.fittedvalues, marker=\"o\", color=\"red\",label = \"Holt Winters Exponential Smoothing\")\n",
    "\n",
    "plt.title('Holt Winters Exponential Smoothing')\n",
    "\n",
    "plt.legend(loc='upper left', fontsize=8)\n",
    "\n",
    "plt.show()"
   ]
  },
  {
   "cell_type": "markdown",
   "id": "17d7e742",
   "metadata": {},
   "source": [
    "### Holts winter exponential smoothing with additive seasonality and additive trend\n"
   ]
  },
  {
   "cell_type": "code",
   "execution_count": 43,
   "id": "499b6986",
   "metadata": {},
   "outputs": [
    {
     "data": {
      "text/plain": [
       "1.6795069098658313"
      ]
     },
     "execution_count": 43,
     "metadata": {},
     "output_type": "execute_result"
    }
   ],
   "source": [
    "# Model Building\n",
    "hwe_model_add_add = ExponentialSmoothing(Train[\"CO2\"],seasonal=\"add\",trend=\"add\",seasonal_periods=12).fit()\n",
    "#Model Prediction\n",
    "pred_hwe_add_add = hwe_model_add_add.predict(start = Test.index[0],end = Test.index[-1])\n",
    "# RMSE Value\n",
    "rmse_hwe_add_add_model = RMSE_Value(pred_hwe_add_add,Test.CO2)\n",
    "rmse_hwe_add_add_model\n"
   ]
  },
  {
   "cell_type": "code",
   "execution_count": 44,
   "id": "a6a3f309",
   "metadata": {},
   "outputs": [
    {
     "data": {
      "image/png": "[encoded data removed]",
      "text/plain": [
       "<Figure size 1296x576 with 1 Axes>"
      ]
     },
     "metadata": {
      "needs_background": "light"
     },
     "output_type": "display_data"
    }
   ],
   "source": [
    "# Holts winter exponential smoothing with additive seasonality and additive trend\n",
    "\n",
    "\n",
    "fit3 = ExponentialSmoothing(Train[\"CO2\"],seasonal=\"add\",trend=\"add\",seasonal_periods=12).fit(smoothing_level=0.8)\n",
    "\n",
    "plt.figure(figsize=(18,8))\n",
    "\n",
    "plt.plot(data_SE, marker=\"o\", color=\"black\",label=\"Data\")\n",
    "\n",
    "plt.xticks(rotation=30)\n",
    "\n",
    "\n",
    "plt.plot(fit3.fittedvalues, marker=\"o\", color=\"red\",label=\"Holts winter exponential smoothing with additive seasonality and additive trend\")\n",
    "\n",
    "plt.title('Holt winters exponential smoothing with additive seasonality and additive trend')\n",
    "\n",
    "plt.legend(loc='upper left', fontsize=8)\n",
    "\n",
    "plt.show()"
   ]
  },
  {
   "cell_type": "markdown",
   "id": "4c31867b",
   "metadata": {},
   "source": [
    "### Holts winter exponential smoothing with multiplicative seasonality and additive trend\n"
   ]
  },
  {
   "cell_type": "code",
   "execution_count": 45,
   "id": "e3dc1b08",
   "metadata": {},
   "outputs": [
    {
     "name": "stderr",
     "output_type": "stream",
     "text": [
      "C:\\Users\\91854\\anaconda3\\lib\\site-packages\\statsmodels\\tsa\\holtwinters\\model.py:915: ConvergenceWarning: Optimization failed to converge. Check mle_retvals.\n",
      "  warnings.warn(\n"
     ]
    },
    {
     "data": {
      "text/plain": [
       "9.604217863199993"
      ]
     },
     "execution_count": 45,
     "metadata": {},
     "output_type": "execute_result"
    }
   ],
   "source": [
    "# Model Building\n",
    "hwe_model_mul_add = ExponentialSmoothing(Train[\"CO2\"],seasonal=\"mul\",trend=\"add\",seasonal_periods=12).fit() \n",
    "# Model Predicting\n",
    "pred_hwe_mul_add = hwe_model_mul_add.predict(start = Test.index[0],end = Test.index[-1])\n",
    "# RMSE Value\n",
    "rmse_hwe_model_mul_add_model = RMSE_Value(pred_hwe_mul_add,Test.CO2)\n",
    "rmse_hwe_model_mul_add_model"
   ]
  },
  {
   "cell_type": "code",
   "execution_count": 46,
   "id": "9f131129",
   "metadata": {},
   "outputs": [
    {
     "data": {
      "image/png": "[encoded data removed]",
      "text/plain": [
       "<Figure size 1296x576 with 1 Axes>"
      ]
     },
     "metadata": {
      "needs_background": "light"
     },
     "output_type": "display_data"
    }
   ],
   "source": [
    "\n",
    "# ### Holts winter exponential smoothing with multiplicative seasonality and additive trend\n",
    "\n",
    "fit4 = ExponentialSmoothing(Train[\"CO2\"], seasonal=\"mul\",trend=\"add\",seasonal_periods=12).fit(smoothing_level=0.8)\n",
    "\n",
    "plt.figure(figsize=(18,8))\n",
    "\n",
    "plt.plot(data_SE, marker=\"o\", color=\"black\",label=\"Data\")\n",
    "\n",
    "plt.xticks(rotation=30)\n",
    "\n",
    "\n",
    "plt.plot(fit4.fittedvalues, marker=\"o\", color=\"red\",label=\"Holts winter exponential smoothing with multiplicative seasonality and additive trend\")\n",
    "\n",
    "plt.title('Holt winters exponential smoothing with multiplicative seasonality and additive trend')\n",
    "\n",
    "plt.legend(loc='upper left', fontsize=8)\n",
    "\n",
    "plt.show()\n"
   ]
  },
  {
   "cell_type": "markdown",
   "id": "5e150b4e",
   "metadata": {},
   "source": [
    "### Holts winter exponential smoothing with multiplicative seasonality and multiplicative trend"
   ]
  },
  {
   "cell_type": "code",
   "execution_count": 47,
   "id": "54e50454",
   "metadata": {},
   "outputs": [
    {
     "name": "stderr",
     "output_type": "stream",
     "text": [
      "C:\\Users\\91854\\anaconda3\\lib\\site-packages\\statsmodels\\tsa\\holtwinters\\model.py:915: ConvergenceWarning: Optimization failed to converge. Check mle_retvals.\n",
      "  warnings.warn(\n"
     ]
    },
    {
     "data": {
      "text/plain": [
       "9.604217863199993"
      ]
     },
     "execution_count": 47,
     "metadata": {},
     "output_type": "execute_result"
    }
   ],
   "source": [
    "# Model Building\n",
    "hwe_model_mul_mul = ExponentialSmoothing(Train[\"CO2\"],seasonal=\"mul\",trend=\"mul\",seasonal_periods=12).fit() \n",
    "# Model Prediction\n",
    "pred_hwe_mul_mul = hwe_model_mul_add.predict(start = Test.index[0],end = Test.index[-1])\n",
    "#RMSE Value\n",
    "rmse_hwe_model_mul_mul_model = RMSE_Value(pred_hwe_mul_mul,Test.CO2)\n",
    "rmse_hwe_model_mul_mul_model"
   ]
  },
  {
   "cell_type": "code",
   "execution_count": 48,
   "id": "e81f02fe",
   "metadata": {},
   "outputs": [
    {
     "data": {
      "image/png": "[encoded data removed]",
      "text/plain": [
       "<Figure size 1296x576 with 1 Axes>"
      ]
     },
     "metadata": {
      "needs_background": "light"
     },
     "output_type": "display_data"
    }
   ],
   "source": [
    "# Holts winter exponential smoothing with multiplicative seasonality and multiplicative trend\n",
    "\n",
    "fit5 = ExponentialSmoothing(Train[\"CO2\"], seasonal=\"mul\",trend=\"mul\",seasonal_periods=12).fit(smoothing_level=0.8)\n",
    "\n",
    "plt.figure(figsize=(18,8))\n",
    "\n",
    "plt.plot(data_SE, marker=\"o\",  color=\"black\",label=\"Data\")\n",
    "\n",
    "plt.xticks(rotation=30)\n",
    "\n",
    "\n",
    "plt.plot(fit5.fittedvalues, marker=\"o\", color=\"red\",label=\"Holts winter exponential smoothing with multiplicative seasonality and multiplicative trend\")\n",
    "\n",
    "plt.title('Holt winters exponential smoothing with multiplicative seasonality and multiplicative trend')\n",
    "\n",
    "plt.legend(loc='upper left', fontsize=8)\n",
    "\n",
    "plt.show()"
   ]
  },
  {
   "cell_type": "code",
   "execution_count": 49,
   "id": "c252d55b",
   "metadata": {},
   "outputs": [
    {
     "data": {
      "text/html": [
       "<div>\n",
       "<style scoped>\n",
       "    .dataframe tbody tr th:only-of-type {\n",
       "        vertical-align: middle;\n",
       "    }\n",
       "\n",
       "    .dataframe tbody tr th {\n",
       "        vertical-align: top;\n",
       "    }\n",
       "\n",
       "    .dataframe thead th {\n",
       "        text-align: right;\n",
       "    }\n",
       "</style>\n",
       "<table border=\"1\" class=\"dataframe\">\n",
       "  <thead>\n",
       "    <tr style=\"text-align: right;\">\n",
       "      <th></th>\n",
       "      <th>Year</th>\n",
       "      <th>CO2</th>\n",
       "      <th>sqrt_CO2</th>\n",
       "      <th>Log_CO2</th>\n",
       "      <th>recp_CO2</th>\n",
       "      <th>exp_CO2</th>\n",
       "      <th>t</th>\n",
       "      <th>t_squared</th>\n",
       "      <th>lg_CO2</th>\n",
       "    </tr>\n",
       "  </thead>\n",
       "  <tbody>\n",
       "    <tr>\n",
       "      <th>0</th>\n",
       "      <td>1800.0</td>\n",
       "      <td>0.00568</td>\n",
       "      <td>0.075366</td>\n",
       "      <td>-5.170804</td>\n",
       "      <td>176.056338</td>\n",
       "      <td>1.005696</td>\n",
       "      <td>1</td>\n",
       "      <td>1</td>\n",
       "      <td>-5.170804</td>\n",
       "    </tr>\n",
       "    <tr>\n",
       "      <th>1</th>\n",
       "      <td>1801.0</td>\n",
       "      <td>0.00561</td>\n",
       "      <td>0.074900</td>\n",
       "      <td>-5.183205</td>\n",
       "      <td>178.253119</td>\n",
       "      <td>1.005626</td>\n",
       "      <td>2</td>\n",
       "      <td>4</td>\n",
       "      <td>-5.183205</td>\n",
       "    </tr>\n",
       "    <tr>\n",
       "      <th>2</th>\n",
       "      <td>1802.0</td>\n",
       "      <td>0.00555</td>\n",
       "      <td>0.074498</td>\n",
       "      <td>-5.193957</td>\n",
       "      <td>180.180180</td>\n",
       "      <td>1.005565</td>\n",
       "      <td>3</td>\n",
       "      <td>9</td>\n",
       "      <td>-5.193957</td>\n",
       "    </tr>\n",
       "    <tr>\n",
       "      <th>3</th>\n",
       "      <td>1803.0</td>\n",
       "      <td>0.00548</td>\n",
       "      <td>0.074027</td>\n",
       "      <td>-5.206650</td>\n",
       "      <td>182.481752</td>\n",
       "      <td>1.005495</td>\n",
       "      <td>4</td>\n",
       "      <td>16</td>\n",
       "      <td>-5.206650</td>\n",
       "    </tr>\n",
       "    <tr>\n",
       "      <th>4</th>\n",
       "      <td>1804.0</td>\n",
       "      <td>0.00542</td>\n",
       "      <td>0.073621</td>\n",
       "      <td>-5.217659</td>\n",
       "      <td>184.501845</td>\n",
       "      <td>1.005435</td>\n",
       "      <td>5</td>\n",
       "      <td>25</td>\n",
       "      <td>-5.217659</td>\n",
       "    </tr>\n",
       "  </tbody>\n",
       "</table>\n",
       "</div>"
      ],
      "text/plain": [
       "     Year      CO2  sqrt_CO2   Log_CO2    recp_CO2   exp_CO2  t  t_squared  \\\n",
       "0  1800.0  0.00568  0.075366 -5.170804  176.056338  1.005696  1          1   \n",
       "1  1801.0  0.00561  0.074900 -5.183205  178.253119  1.005626  2          4   \n",
       "2  1802.0  0.00555  0.074498 -5.193957  180.180180  1.005565  3          9   \n",
       "3  1803.0  0.00548  0.074027 -5.206650  182.481752  1.005495  4         16   \n",
       "4  1804.0  0.00542  0.073621 -5.217659  184.501845  1.005435  5         25   \n",
       "\n",
       "     lg_CO2  \n",
       "0 -5.170804  \n",
       "1 -5.183205  \n",
       "2 -5.193957  \n",
       "3 -5.206650  \n",
       "4 -5.217659  "
      ]
     },
     "execution_count": 49,
     "metadata": {},
     "output_type": "execute_result"
    }
   ],
   "source": [
    "# creating a column for time in the dataset\n",
    "co[\"t\"] = np.arange(1,216)\n",
    "\n",
    "# Creating a squared time column for using in the quardratic model\n",
    "co[\"t_squared\"]=co[\"t\"]*co[\"t\"]\n",
    "\n",
    "# Creating a log transformation for the dependent variable for exponential model\n",
    "co[\"lg_CO2\"]= np.log(co[\"CO2\"])\n",
    "\n",
    "co.head()\n"
   ]
  },
  {
   "cell_type": "code",
   "execution_count": 50,
   "id": "0c3a2b18",
   "metadata": {},
   "outputs": [],
   "source": [
    "#Splitting data into Train and Test\n",
    "Train_m = co.head(172)\n",
    "Test_m = co.tail(43)"
   ]
  },
  {
   "cell_type": "code",
   "execution_count": 51,
   "id": "910fa2ab",
   "metadata": {},
   "outputs": [],
   "source": [
    "# Importing Libraries\n",
    "import statsmodels.formula.api as smf"
   ]
  },
  {
   "cell_type": "code",
   "execution_count": 52,
   "id": "0ccbbec6",
   "metadata": {},
   "outputs": [
    {
     "data": {
      "text/html": [
       "<div>\n",
       "<style scoped>\n",
       "    .dataframe tbody tr th:only-of-type {\n",
       "        vertical-align: middle;\n",
       "    }\n",
       "\n",
       "    .dataframe tbody tr th {\n",
       "        vertical-align: top;\n",
       "    }\n",
       "\n",
       "    .dataframe thead th {\n",
       "        text-align: right;\n",
       "    }\n",
       "</style>\n",
       "<table border=\"1\" class=\"dataframe\">\n",
       "  <thead>\n",
       "    <tr style=\"text-align: right;\">\n",
       "      <th></th>\n",
       "      <th>Year</th>\n",
       "      <th>CO2</th>\n",
       "      <th>sqrt_CO2</th>\n",
       "      <th>Log_CO2</th>\n",
       "      <th>recp_CO2</th>\n",
       "      <th>exp_CO2</th>\n",
       "      <th>t</th>\n",
       "      <th>t_squared</th>\n",
       "      <th>lg_CO2</th>\n",
       "    </tr>\n",
       "  </thead>\n",
       "  <tbody>\n",
       "    <tr>\n",
       "      <th>0</th>\n",
       "      <td>1800.0</td>\n",
       "      <td>0.00568</td>\n",
       "      <td>0.075366</td>\n",
       "      <td>-5.170804</td>\n",
       "      <td>176.056338</td>\n",
       "      <td>1.005696</td>\n",
       "      <td>1</td>\n",
       "      <td>1</td>\n",
       "      <td>-5.170804</td>\n",
       "    </tr>\n",
       "    <tr>\n",
       "      <th>1</th>\n",
       "      <td>1801.0</td>\n",
       "      <td>0.00561</td>\n",
       "      <td>0.074900</td>\n",
       "      <td>-5.183205</td>\n",
       "      <td>178.253119</td>\n",
       "      <td>1.005626</td>\n",
       "      <td>2</td>\n",
       "      <td>4</td>\n",
       "      <td>-5.183205</td>\n",
       "    </tr>\n",
       "    <tr>\n",
       "      <th>2</th>\n",
       "      <td>1802.0</td>\n",
       "      <td>0.00555</td>\n",
       "      <td>0.074498</td>\n",
       "      <td>-5.193957</td>\n",
       "      <td>180.180180</td>\n",
       "      <td>1.005565</td>\n",
       "      <td>3</td>\n",
       "      <td>9</td>\n",
       "      <td>-5.193957</td>\n",
       "    </tr>\n",
       "    <tr>\n",
       "      <th>3</th>\n",
       "      <td>1803.0</td>\n",
       "      <td>0.00548</td>\n",
       "      <td>0.074027</td>\n",
       "      <td>-5.206650</td>\n",
       "      <td>182.481752</td>\n",
       "      <td>1.005495</td>\n",
       "      <td>4</td>\n",
       "      <td>16</td>\n",
       "      <td>-5.206650</td>\n",
       "    </tr>\n",
       "    <tr>\n",
       "      <th>4</th>\n",
       "      <td>1804.0</td>\n",
       "      <td>0.00542</td>\n",
       "      <td>0.073621</td>\n",
       "      <td>-5.217659</td>\n",
       "      <td>184.501845</td>\n",
       "      <td>1.005435</td>\n",
       "      <td>5</td>\n",
       "      <td>25</td>\n",
       "      <td>-5.217659</td>\n",
       "    </tr>\n",
       "  </tbody>\n",
       "</table>\n",
       "</div>"
      ],
      "text/plain": [
       "     Year      CO2  sqrt_CO2   Log_CO2    recp_CO2   exp_CO2  t  t_squared  \\\n",
       "0  1800.0  0.00568  0.075366 -5.170804  176.056338  1.005696  1          1   \n",
       "1  1801.0  0.00561  0.074900 -5.183205  178.253119  1.005626  2          4   \n",
       "2  1802.0  0.00555  0.074498 -5.193957  180.180180  1.005565  3          9   \n",
       "3  1803.0  0.00548  0.074027 -5.206650  182.481752  1.005495  4         16   \n",
       "4  1804.0  0.00542  0.073621 -5.217659  184.501845  1.005435  5         25   \n",
       "\n",
       "     lg_CO2  \n",
       "0 -5.170804  \n",
       "1 -5.183205  \n",
       "2 -5.193957  \n",
       "3 -5.206650  \n",
       "4 -5.217659  "
      ]
     },
     "execution_count": 52,
     "metadata": {},
     "output_type": "execute_result"
    }
   ],
   "source": [
    "co.head()"
   ]
  },
  {
   "cell_type": "markdown",
   "id": "f3e9a265",
   "metadata": {},
   "source": [
    "### Linear Model"
   ]
  },
  {
   "cell_type": "code",
   "execution_count": 53,
   "id": "36273e89",
   "metadata": {},
   "outputs": [
    {
     "data": {
      "text/plain": [
       "3.1445157061117643"
      ]
     },
     "execution_count": 53,
     "metadata": {},
     "output_type": "execute_result"
    }
   ],
   "source": [
    "# Model Building\n",
    "linear_model = smf.ols('CO2~t',data=Train_m).fit()\n",
    "# Model Prediction\n",
    "pred_linear = pd.Series(linear_model.predict(pd.DataFrame(Test_m['t'])))\n",
    "\n",
    "#RMSE value\n",
    "rmse_linear_model = RMSE_Value(pred_linear,Test_m['CO2'])\n",
    "rmse_linear_model"
   ]
  },
  {
   "cell_type": "code",
   "execution_count": 54,
   "id": "48aa408c",
   "metadata": {},
   "outputs": [
    {
     "data": {
      "text/html": [
       "<table class=\"simpletable\">\n",
       "<caption>OLS Regression Results</caption>\n",
       "<tr>\n",
       "  <th>Dep. Variable:</th>           <td>CO2</td>       <th>  R-squared:         </th> <td>   0.847</td>\n",
       "</tr>\n",
       "<tr>\n",
       "  <th>Model:</th>                   <td>OLS</td>       <th>  Adj. R-squared:    </th> <td>   0.847</td>\n",
       "</tr>\n",
       "<tr>\n",
       "  <th>Method:</th>             <td>Least Squares</td>  <th>  F-statistic:       </th> <td>   944.6</td>\n",
       "</tr>\n",
       "<tr>\n",
       "  <th>Date:</th>             <td>Sat, 11 Mar 2023</td> <th>  Prob (F-statistic):</th> <td>2.54e-71</td>\n",
       "</tr>\n",
       "<tr>\n",
       "  <th>Time:</th>                 <td>13:30:42</td>     <th>  Log-Likelihood:    </th> <td> -351.72</td>\n",
       "</tr>\n",
       "<tr>\n",
       "  <th>No. Observations:</th>      <td>   172</td>      <th>  AIC:               </th> <td>   707.4</td>\n",
       "</tr>\n",
       "<tr>\n",
       "  <th>Df Residuals:</th>          <td>   170</td>      <th>  BIC:               </th> <td>   713.7</td>\n",
       "</tr>\n",
       "<tr>\n",
       "  <th>Df Model:</th>              <td>     1</td>      <th>                     </th>     <td> </td>   \n",
       "</tr>\n",
       "<tr>\n",
       "  <th>Covariance Type:</th>      <td>nonrobust</td>    <th>                     </th>     <td> </td>   \n",
       "</tr>\n",
       "</table>\n",
       "<table class=\"simpletable\">\n",
       "<tr>\n",
       "      <td></td>         <th>coef</th>     <th>std err</th>      <th>t</th>      <th>P>|t|</th>  <th>[0.025</th>    <th>0.975]</th>  \n",
       "</tr>\n",
       "<tr>\n",
       "  <th>Intercept</th> <td>   -3.3801</td> <td>    0.288</td> <td>  -11.732</td> <td> 0.000</td> <td>   -3.949</td> <td>   -2.811</td>\n",
       "</tr>\n",
       "<tr>\n",
       "  <th>t</th>         <td>    0.0888</td> <td>    0.003</td> <td>   30.734</td> <td> 0.000</td> <td>    0.083</td> <td>    0.094</td>\n",
       "</tr>\n",
       "</table>\n",
       "<table class=\"simpletable\">\n",
       "<tr>\n",
       "  <th>Omnibus:</th>       <td>38.221</td> <th>  Durbin-Watson:     </th> <td>   0.088</td>\n",
       "</tr>\n",
       "<tr>\n",
       "  <th>Prob(Omnibus):</th> <td> 0.000</td> <th>  Jarque-Bera (JB):  </th> <td>   8.438</td>\n",
       "</tr>\n",
       "<tr>\n",
       "  <th>Skew:</th>          <td> 0.105</td> <th>  Prob(JB):          </th> <td>  0.0147</td>\n",
       "</tr>\n",
       "<tr>\n",
       "  <th>Kurtosis:</th>      <td> 1.936</td> <th>  Cond. No.          </th> <td>    200.</td>\n",
       "</tr>\n",
       "</table><br/><br/>Notes:<br/>[1] Standard Errors assume that the covariance matrix of the errors is correctly specified."
      ],
      "text/plain": [
       "<class 'statsmodels.iolib.summary.Summary'>\n",
       "\"\"\"\n",
       "                            OLS Regression Results                            \n",
       "==============================================================================\n",
       "Dep. Variable:                    CO2   R-squared:                       0.847\n",
       "Model:                            OLS   Adj. R-squared:                  0.847\n",
       "Method:                 Least Squares   F-statistic:                     944.6\n",
       "Date:                Sat, 11 Mar 2023   Prob (F-statistic):           2.54e-71\n",
       "Time:                        13:30:42   Log-Likelihood:                -351.72\n",
       "No. Observations:                 172   AIC:                             707.4\n",
       "Df Residuals:                     170   BIC:                             713.7\n",
       "Df Model:                           1                                         \n",
       "Covariance Type:            nonrobust                                         \n",
       "==============================================================================\n",
       "                 coef    std err          t      P>|t|      [0.025      0.975]\n",
       "------------------------------------------------------------------------------\n",
       "Intercept     -3.3801      0.288    -11.732      0.000      -3.949      -2.811\n",
       "t              0.0888      0.003     30.734      0.000       0.083       0.094\n",
       "==============================================================================\n",
       "Omnibus:                       38.221   Durbin-Watson:                   0.088\n",
       "Prob(Omnibus):                  0.000   Jarque-Bera (JB):                8.438\n",
       "Skew:                           0.105   Prob(JB):                       0.0147\n",
       "Kurtosis:                       1.936   Cond. No.                         200.\n",
       "==============================================================================\n",
       "\n",
       "Notes:\n",
       "[1] Standard Errors assume that the covariance matrix of the errors is correctly specified.\n",
       "\"\"\""
      ]
     },
     "execution_count": 54,
     "metadata": {},
     "output_type": "execute_result"
    }
   ],
   "source": [
    "linear_model.summary()"
   ]
  },
  {
   "cell_type": "markdown",
   "id": "e3a62e15",
   "metadata": {},
   "source": [
    "### Exponential Model"
   ]
  },
  {
   "cell_type": "code",
   "execution_count": 55,
   "id": "1061d483",
   "metadata": {},
   "outputs": [
    {
     "data": {
      "text/plain": [
       "550.3307096054052"
      ]
     },
     "execution_count": 55,
     "metadata": {},
     "output_type": "execute_result"
    }
   ],
   "source": [
    "# Model Building\n",
    "Exp = smf.ols('lg_CO2~t',data=Train_m).fit()\n",
    "# Model Prediction\n",
    "pred_Exp = pd.Series(Exp.predict(pd.DataFrame(Test_m['t'])))\n",
    "\n",
    "#RMSE value\n",
    "rmse_Exp_model = RMSE_Value(np.exp(pred_Exp),Test_m['CO2'])\n",
    "rmse_Exp_model"
   ]
  },
  {
   "cell_type": "code",
   "execution_count": 56,
   "id": "8abd07d7",
   "metadata": {},
   "outputs": [
    {
     "data": {
      "text/html": [
       "<table class=\"simpletable\">\n",
       "<caption>OLS Regression Results</caption>\n",
       "<tr>\n",
       "  <th>Dep. Variable:</th>         <td>lg_CO2</td>      <th>  R-squared:         </th> <td>   0.876</td>\n",
       "</tr>\n",
       "<tr>\n",
       "  <th>Model:</th>                   <td>OLS</td>       <th>  Adj. R-squared:    </th> <td>   0.875</td>\n",
       "</tr>\n",
       "<tr>\n",
       "  <th>Method:</th>             <td>Least Squares</td>  <th>  F-statistic:       </th> <td>   1198.</td>\n",
       "</tr>\n",
       "<tr>\n",
       "  <th>Date:</th>             <td>Sat, 11 Mar 2023</td> <th>  Prob (F-statistic):</th> <td>6.73e-79</td>\n",
       "</tr>\n",
       "<tr>\n",
       "  <th>Time:</th>                 <td>13:30:42</td>     <th>  Log-Likelihood:    </th> <td> -271.13</td>\n",
       "</tr>\n",
       "<tr>\n",
       "  <th>No. Observations:</th>      <td>   172</td>      <th>  AIC:               </th> <td>   546.3</td>\n",
       "</tr>\n",
       "<tr>\n",
       "  <th>Df Residuals:</th>          <td>   170</td>      <th>  BIC:               </th> <td>   552.5</td>\n",
       "</tr>\n",
       "<tr>\n",
       "  <th>Df Model:</th>              <td>     1</td>      <th>                     </th>     <td> </td>   \n",
       "</tr>\n",
       "<tr>\n",
       "  <th>Covariance Type:</th>      <td>nonrobust</td>    <th>                     </th>     <td> </td>   \n",
       "</tr>\n",
       "</table>\n",
       "<table class=\"simpletable\">\n",
       "<tr>\n",
       "      <td></td>         <th>coef</th>     <th>std err</th>      <th>t</th>      <th>P>|t|</th>  <th>[0.025</th>    <th>0.975]</th>  \n",
       "</tr>\n",
       "<tr>\n",
       "  <th>Intercept</th> <td>   -6.3091</td> <td>    0.180</td> <td>  -34.988</td> <td> 0.000</td> <td>   -6.665</td> <td>   -5.953</td>\n",
       "</tr>\n",
       "<tr>\n",
       "  <th>t</th>         <td>    0.0626</td> <td>    0.002</td> <td>   34.616</td> <td> 0.000</td> <td>    0.059</td> <td>    0.066</td>\n",
       "</tr>\n",
       "</table>\n",
       "<table class=\"simpletable\">\n",
       "<tr>\n",
       "  <th>Omnibus:</th>       <td>14.863</td> <th>  Durbin-Watson:     </th> <td>   0.028</td>\n",
       "</tr>\n",
       "<tr>\n",
       "  <th>Prob(Omnibus):</th> <td> 0.001</td> <th>  Jarque-Bera (JB):  </th> <td>  10.019</td>\n",
       "</tr>\n",
       "<tr>\n",
       "  <th>Skew:</th>          <td>-0.460</td> <th>  Prob(JB):          </th> <td> 0.00668</td>\n",
       "</tr>\n",
       "<tr>\n",
       "  <th>Kurtosis:</th>      <td> 2.257</td> <th>  Cond. No.          </th> <td>    200.</td>\n",
       "</tr>\n",
       "</table><br/><br/>Notes:<br/>[1] Standard Errors assume that the covariance matrix of the errors is correctly specified."
      ],
      "text/plain": [
       "<class 'statsmodels.iolib.summary.Summary'>\n",
       "\"\"\"\n",
       "                            OLS Regression Results                            \n",
       "==============================================================================\n",
       "Dep. Variable:                 lg_CO2   R-squared:                       0.876\n",
       "Model:                            OLS   Adj. R-squared:                  0.875\n",
       "Method:                 Least Squares   F-statistic:                     1198.\n",
       "Date:                Sat, 11 Mar 2023   Prob (F-statistic):           6.73e-79\n",
       "Time:                        13:30:42   Log-Likelihood:                -271.13\n",
       "No. Observations:                 172   AIC:                             546.3\n",
       "Df Residuals:                     170   BIC:                             552.5\n",
       "Df Model:                           1                                         \n",
       "Covariance Type:            nonrobust                                         \n",
       "==============================================================================\n",
       "                 coef    std err          t      P>|t|      [0.025      0.975]\n",
       "------------------------------------------------------------------------------\n",
       "Intercept     -6.3091      0.180    -34.988      0.000      -6.665      -5.953\n",
       "t              0.0626      0.002     34.616      0.000       0.059       0.066\n",
       "==============================================================================\n",
       "Omnibus:                       14.863   Durbin-Watson:                   0.028\n",
       "Prob(Omnibus):                  0.001   Jarque-Bera (JB):               10.019\n",
       "Skew:                          -0.460   Prob(JB):                      0.00668\n",
       "Kurtosis:                       2.257   Cond. No.                         200.\n",
       "==============================================================================\n",
       "\n",
       "Notes:\n",
       "[1] Standard Errors assume that the covariance matrix of the errors is correctly specified.\n",
       "\"\"\""
      ]
     },
     "execution_count": 56,
     "metadata": {},
     "output_type": "execute_result"
    }
   ],
   "source": [
    "Exp.summary()"
   ]
  },
  {
   "cell_type": "markdown",
   "id": "31f92176",
   "metadata": {},
   "source": [
    "### Quadratic Model"
   ]
  },
  {
   "cell_type": "code",
   "execution_count": 57,
   "id": "6ce74b06",
   "metadata": {},
   "outputs": [
    {
     "data": {
      "text/plain": [
       "4.495138217852161"
      ]
     },
     "execution_count": 57,
     "metadata": {},
     "output_type": "execute_result"
    }
   ],
   "source": [
    "# Model Building\n",
    "Quad = smf.ols('CO2~t+t_squared',data=Train_m).fit()\n",
    "# Model Prediction\n",
    "pred_Quad = pd.Series(Quad.predict(Test_m[[\"t\",\"t_squared\"]]))\n",
    "\n",
    "#RMSE VALUE\n",
    "rmse_Quad_model = RMSE_Value(pred_Quad,Test_m['CO2'])\n",
    "rmse_Quad_model"
   ]
  },
  {
   "cell_type": "code",
   "execution_count": 58,
   "id": "3a3dda3e",
   "metadata": {},
   "outputs": [
    {
     "data": {
      "text/html": [
       "<table class=\"simpletable\">\n",
       "<caption>OLS Regression Results</caption>\n",
       "<tr>\n",
       "  <th>Dep. Variable:</th>           <td>CO2</td>       <th>  R-squared:         </th> <td>   0.930</td>\n",
       "</tr>\n",
       "<tr>\n",
       "  <th>Model:</th>                   <td>OLS</td>       <th>  Adj. R-squared:    </th> <td>   0.929</td>\n",
       "</tr>\n",
       "<tr>\n",
       "  <th>Method:</th>             <td>Least Squares</td>  <th>  F-statistic:       </th> <td>   1128.</td>\n",
       "</tr>\n",
       "<tr>\n",
       "  <th>Date:</th>             <td>Sat, 11 Mar 2023</td> <th>  Prob (F-statistic):</th> <td>1.78e-98</td>\n",
       "</tr>\n",
       "<tr>\n",
       "  <th>Time:</th>                 <td>13:30:42</td>     <th>  Log-Likelihood:    </th> <td> -284.37</td>\n",
       "</tr>\n",
       "<tr>\n",
       "  <th>No. Observations:</th>      <td>   172</td>      <th>  AIC:               </th> <td>   574.7</td>\n",
       "</tr>\n",
       "<tr>\n",
       "  <th>Df Residuals:</th>          <td>   169</td>      <th>  BIC:               </th> <td>   584.2</td>\n",
       "</tr>\n",
       "<tr>\n",
       "  <th>Df Model:</th>              <td>     2</td>      <th>                     </th>     <td> </td>   \n",
       "</tr>\n",
       "<tr>\n",
       "  <th>Covariance Type:</th>      <td>nonrobust</td>    <th>                     </th>     <td> </td>   \n",
       "</tr>\n",
       "</table>\n",
       "<table class=\"simpletable\">\n",
       "<tr>\n",
       "      <td></td>         <th>coef</th>     <th>std err</th>      <th>t</th>      <th>P>|t|</th>  <th>[0.025</th>    <th>0.975]</th>  \n",
       "</tr>\n",
       "<tr>\n",
       "  <th>Intercept</th> <td>   -0.2444</td> <td>    0.295</td> <td>   -0.828</td> <td> 0.409</td> <td>   -0.827</td> <td>    0.338</td>\n",
       "</tr>\n",
       "<tr>\n",
       "  <th>t</th>         <td>   -0.0193</td> <td>    0.008</td> <td>   -2.456</td> <td> 0.015</td> <td>   -0.035</td> <td>   -0.004</td>\n",
       "</tr>\n",
       "<tr>\n",
       "  <th>t_squared</th> <td>    0.0006</td> <td> 4.41e-05</td> <td>   14.172</td> <td> 0.000</td> <td>    0.001</td> <td>    0.001</td>\n",
       "</tr>\n",
       "</table>\n",
       "<table class=\"simpletable\">\n",
       "<tr>\n",
       "  <th>Omnibus:</th>       <td>33.246</td> <th>  Durbin-Watson:     </th> <td>   0.188</td>\n",
       "</tr>\n",
       "<tr>\n",
       "  <th>Prob(Omnibus):</th> <td> 0.000</td> <th>  Jarque-Bera (JB):  </th> <td>  49.854</td>\n",
       "</tr>\n",
       "<tr>\n",
       "  <th>Skew:</th>          <td> 1.048</td> <th>  Prob(JB):          </th> <td>1.49e-11</td>\n",
       "</tr>\n",
       "<tr>\n",
       "  <th>Kurtosis:</th>      <td> 4.601</td> <th>  Cond. No.          </th> <td>4.05e+04</td>\n",
       "</tr>\n",
       "</table><br/><br/>Notes:<br/>[1] Standard Errors assume that the covariance matrix of the errors is correctly specified.<br/>[2] The condition number is large, 4.05e+04. This might indicate that there are<br/>strong multicollinearity or other numerical problems."
      ],
      "text/plain": [
       "<class 'statsmodels.iolib.summary.Summary'>\n",
       "\"\"\"\n",
       "                            OLS Regression Results                            \n",
       "==============================================================================\n",
       "Dep. Variable:                    CO2   R-squared:                       0.930\n",
       "Model:                            OLS   Adj. R-squared:                  0.929\n",
       "Method:                 Least Squares   F-statistic:                     1128.\n",
       "Date:                Sat, 11 Mar 2023   Prob (F-statistic):           1.78e-98\n",
       "Time:                        13:30:42   Log-Likelihood:                -284.37\n",
       "No. Observations:                 172   AIC:                             574.7\n",
       "Df Residuals:                     169   BIC:                             584.2\n",
       "Df Model:                           2                                         \n",
       "Covariance Type:            nonrobust                                         \n",
       "==============================================================================\n",
       "                 coef    std err          t      P>|t|      [0.025      0.975]\n",
       "------------------------------------------------------------------------------\n",
       "Intercept     -0.2444      0.295     -0.828      0.409      -0.827       0.338\n",
       "t             -0.0193      0.008     -2.456      0.015      -0.035      -0.004\n",
       "t_squared      0.0006   4.41e-05     14.172      0.000       0.001       0.001\n",
       "==============================================================================\n",
       "Omnibus:                       33.246   Durbin-Watson:                   0.188\n",
       "Prob(Omnibus):                  0.000   Jarque-Bera (JB):               49.854\n",
       "Skew:                           1.048   Prob(JB):                     1.49e-11\n",
       "Kurtosis:                       4.601   Cond. No.                     4.05e+04\n",
       "==============================================================================\n",
       "\n",
       "Notes:\n",
       "[1] Standard Errors assume that the covariance matrix of the errors is correctly specified.\n",
       "[2] The condition number is large, 4.05e+04. This might indicate that there are\n",
       "strong multicollinearity or other numerical problems.\n",
       "\"\"\""
      ]
     },
     "execution_count": 58,
     "metadata": {},
     "output_type": "execute_result"
    }
   ],
   "source": [
    "Quad.summary()"
   ]
  },
  {
   "cell_type": "code",
   "execution_count": 59,
   "id": "44a73c8e",
   "metadata": {},
   "outputs": [],
   "source": [
    "MOD=pd.DataFrame({'models':['Single Exponential','Holt Method','Holt Winter Add Sea Add Tre',\n",
    "                       'Holt Winter Exp Mul Sea Add Tre','Holt Winter Exp Mul Sea Mul Tre',\n",
    "                       'Linear Model','Exponential Model','Quadratic Model'],\n",
    "             'RMSE Value':[rmse_ses_model,rmse_hw_model,rmse_hwe_add_add_model,rmse_hwe_model_mul_add_model,\n",
    "             rmse_hwe_model_mul_mul_model,rmse_linear_model,rmse_Exp_model,rmse_Quad_model]})"
   ]
  },
  {
   "cell_type": "code",
   "execution_count": 60,
   "id": "f68803b8",
   "metadata": {},
   "outputs": [
    {
     "data": {
      "text/html": [
       "<div>\n",
       "<style scoped>\n",
       "    .dataframe tbody tr th:only-of-type {\n",
       "        vertical-align: middle;\n",
       "    }\n",
       "\n",
       "    .dataframe tbody tr th {\n",
       "        vertical-align: top;\n",
       "    }\n",
       "\n",
       "    .dataframe thead th {\n",
       "        text-align: right;\n",
       "    }\n",
       "</style>\n",
       "<table border=\"1\" class=\"dataframe\">\n",
       "  <thead>\n",
       "    <tr style=\"text-align: right;\">\n",
       "      <th></th>\n",
       "      <th>models</th>\n",
       "      <th>RMSE Value</th>\n",
       "    </tr>\n",
       "  </thead>\n",
       "  <tbody>\n",
       "    <tr>\n",
       "      <th>0</th>\n",
       "      <td>Single Exponential</td>\n",
       "      <td>2.066358</td>\n",
       "    </tr>\n",
       "    <tr>\n",
       "      <th>1</th>\n",
       "      <td>Holt Method</td>\n",
       "      <td>1.633149</td>\n",
       "    </tr>\n",
       "    <tr>\n",
       "      <th>2</th>\n",
       "      <td>Holt Winter Add Sea Add Tre</td>\n",
       "      <td>1.679507</td>\n",
       "    </tr>\n",
       "    <tr>\n",
       "      <th>3</th>\n",
       "      <td>Holt Winter Exp Mul Sea Add Tre</td>\n",
       "      <td>9.604218</td>\n",
       "    </tr>\n",
       "    <tr>\n",
       "      <th>4</th>\n",
       "      <td>Holt Winter Exp Mul Sea Mul Tre</td>\n",
       "      <td>9.604218</td>\n",
       "    </tr>\n",
       "    <tr>\n",
       "      <th>5</th>\n",
       "      <td>Linear Model</td>\n",
       "      <td>3.144516</td>\n",
       "    </tr>\n",
       "    <tr>\n",
       "      <th>6</th>\n",
       "      <td>Exponential Model</td>\n",
       "      <td>550.330710</td>\n",
       "    </tr>\n",
       "    <tr>\n",
       "      <th>7</th>\n",
       "      <td>Quadratic Model</td>\n",
       "      <td>4.495138</td>\n",
       "    </tr>\n",
       "  </tbody>\n",
       "</table>\n",
       "</div>"
      ],
      "text/plain": [
       "                            models  RMSE Value\n",
       "0               Single Exponential    2.066358\n",
       "1                      Holt Method    1.633149\n",
       "2      Holt Winter Add Sea Add Tre    1.679507\n",
       "3  Holt Winter Exp Mul Sea Add Tre    9.604218\n",
       "4  Holt Winter Exp Mul Sea Mul Tre    9.604218\n",
       "5                     Linear Model    3.144516\n",
       "6                Exponential Model  550.330710\n",
       "7                  Quadratic Model    4.495138"
      ]
     },
     "execution_count": 60,
     "metadata": {},
     "output_type": "execute_result"
    }
   ],
   "source": [
    "MOD"
   ]
  },
  {
   "cell_type": "code",
   "execution_count": null,
   "id": "99364327",
   "metadata": {},
   "outputs": [],
   "source": []
  }
 ],
 "metadata": {
  "kernelspec": {
   "display_name": "Python 3 (ipykernel)",
   "language": "python",
   "name": "python3"
  },
  "language_info": {
   "codemirror_mode": {
    "name": "ipython",
    "version": 3
   },
   "file_extension": ".py",
   "mimetype": "text/x-python",
   "name": "python",
   "nbconvert_exporter": "python",
   "pygments_lexer": "ipython3",
   "version": "3.9.12"
  }
 },
 "nbformat": 4,
 "nbformat_minor": 5
}
